{
 "cells": [
  {
   "cell_type": "markdown",
   "metadata": {},
   "source": [
    "# Write a SSAHA Algorithm With Python"
   ]
  },
  {
   "cell_type": "markdown",
   "metadata": {},
   "source": [
    "## Parse FASTA"
   ]
  },
  {
   "attachments": {},
   "cell_type": "markdown",
   "metadata": {},
   "source": [
    "1. [Download TAIR10 refence genome.](ftp://ftp.ensemblgenomes.org/pub/plants/release-48/fasta/arabidopsis_thaliana/dna/Arabidopsis_thaliana.TAIR10.dna.toplevel.fa.gz)\n",
    "2. Run your command line. Change directory (cd) to the folder in which you downloaded TAIR10. Then extract the file by typing this:\n",
    "> gunzip Arabidopsis_thaliana.TAIR10.dna.toplevel.fa.gz\n",
    "3. Below is the screenshot of the head of the reference genome.\n",
    "![head.png](head.png)\n",
    "<br>\n",
    "For every chromosome, the first line (as indicated by the \">\") is the label and the next lines correspond to the DNA sequnces for that particular chrosome. "
   ]
  },
  {
   "cell_type": "code",
   "execution_count": 79,
   "metadata": {
    "scrolled": false
   },
   "outputs": [],
   "source": [
    "def parse(fasta):\n",
    "    with open(reference_genome, mode = \"rt\") as read_file:\n",
    "        # create some empty lists\n",
    "        label = []\n",
    "        all_seq = []\n",
    "        temp = []\n",
    "        # iterate the fasta file line by line\n",
    "        for line in read_file:\n",
    "            # notice that each line ends with a trailing whitespace which must be removed to join lines into 1 string\n",
    "            line = line.rstrip()\n",
    "            # line that begins with \">\" is the header of every chrosome sequence\n",
    "            if line.startswith(\">\"):\n",
    "                label.append(line[1:])\n",
    "                # when we encounter a new header for the 2nd time and so on, we join the sequences in the temp list into 1 string\n",
    "                # then, we append that string into all_seq list (all_seq would look like this [seq1, seq2, seq3,...])\n",
    "                # finally, we empty the temp list, so it can temporarily retain sequences in the next chromosome\n",
    "                if temp != []:\n",
    "                    chr_seq = \"\".join(temp)  \n",
    "                    all_seq.append(chr_seq)\n",
    "                    temp = []\n",
    "            # any other lines are sequences, so we append each line into a temporary list\n",
    "            else:\n",
    "                temp.append(line) \n",
    "        # the genome does not end with a header, so for the last lines\n",
    "        # we also need to include the code for joining after the loop is complete\n",
    "        chr_seq = \"\".join(temp)\n",
    "        all_seq.append(chr_seq)\n",
    "        temp = []\n",
    "    return label, all_seq\n",
    "\n",
    "reference_genome = \"Arabidopsis_thaliana.TAIR10.dna.toplevel.fa\"\n",
    "label, all_seq = parse(reference_genome)"
   ]
  },
  {
   "attachments": {},
   "cell_type": "markdown",
   "metadata": {},
   "source": [
    "Below is just a small part of the parsed sequence: <br>\n",
    "There are 7 elements in all_seq list.\n",
    "![all_seq.png](all_seq.png)"
   ]
  },
  {
   "cell_type": "markdown",
   "metadata": {},
   "source": [
    "## Construct Hash Table"
   ]
  },
  {
   "cell_type": "code",
   "execution_count": null,
   "metadata": {},
   "outputs": [],
   "source": [
    "def construct_hash_table(all_seq, len_kmer):\n",
    "    # create an empty dict\n",
    "    hash_table = {}\n",
    "    # enumerate: loop through every element (j) in the all_seq list and keep a count of interations (i)\n",
    "    # learn more here www.geeksforgeeks.org/enumerate-in-python/\n",
    "    for i, j in enumerate(all_seq):\n",
    "        # we use kmer as a step because we want to include only NON-OVERLAPPING kmers\n",
    "        for k in range(0, len(j) - len_kmer+1, len_kmer):\n",
    "            kmer = j[k:k+len_kmer]\n",
    "            if kmer in hash_table:\n",
    "                # record the location (which chromosome and index) for every kmer\n",
    "                hash_table[kmer] += [(i+1, k+1)]\n",
    "            else:\n",
    "                hash_table[kmer] = [(i+1, k+1)]\n",
    "    return hash_table\n",
    "\n",
    "# my choice for kmer is 10\n",
    "hash_table = construct_hash_table(all_seq, 10)"
   ]
  },
  {
   "attachments": {},
   "cell_type": "markdown",
   "metadata": {},
   "source": [
    "A small part of the hash table that has been constructed:\n",
    "![hash_table.png](hash_table.png)"
   ]
  },
  {
   "cell_type": "code",
   "execution_count": null,
   "metadata": {},
   "outputs": [],
   "source": []
  }
 ],
 "metadata": {
  "kernelspec": {
   "display_name": "Python 3",
   "language": "python",
   "name": "python3"
  },
  "language_info": {
   "codemirror_mode": {
    "name": "ipython",
    "version": 3
   },
   "file_extension": ".py",
   "mimetype": "text/x-python",
   "name": "python",
   "nbconvert_exporter": "python",
   "pygments_lexer": "ipython3",
   "version": "3.7.7"
  }
 },
 "nbformat": 4,
 "nbformat_minor": 4
}
